{
 "cells": [
  {
   "cell_type": "markdown",
   "metadata": {
    "colab_type": "text",
    "id": "kR-4eNdK6lYS"
   },
   "source": [
    "Deep Learning\n",
    "=============\n",
    "\n",
    "Assignment 3\n",
    "------------\n",
    "\n",
    "Previously in `2_fullyconnected.ipynb`, you trained a logistic regression and a neural network model.\n",
    "\n",
    "The goal of this assignment is to explore regularization techniques."
   ]
  },
  {
   "cell_type": "code",
   "execution_count": 2,
   "metadata": {
    "cellView": "both",
    "colab": {
     "autoexec": {
      "startup": false,
      "wait_interval": 0
     }
    },
    "colab_type": "code",
    "collapsed": true,
    "id": "JLpLa8Jt7Vu4"
   },
   "outputs": [],
   "source": [
    "# These are all the modules we'll be using later. Make sure you can import them\n",
    "# before proceeding further.\n",
    "from __future__ import print_function\n",
    "import numpy as np\n",
    "import tensorflow as tf\n",
    "from six.moves import cPickle as pickle"
   ]
  },
  {
   "cell_type": "markdown",
   "metadata": {
    "colab_type": "text",
    "id": "1HrCK6e17WzV"
   },
   "source": [
    "First reload the data we generated in `1_notmnist.ipynb`."
   ]
  },
  {
   "cell_type": "code",
   "execution_count": 3,
   "metadata": {
    "cellView": "both",
    "colab": {
     "autoexec": {
      "startup": false,
      "wait_interval": 0
     },
     "output_extras": [
      {
       "item_id": 1
      }
     ]
    },
    "colab_type": "code",
    "executionInfo": {
     "elapsed": 11777,
     "status": "ok",
     "timestamp": 1449849322348,
     "user": {
      "color": "",
      "displayName": "",
      "isAnonymous": false,
      "isMe": true,
      "permissionId": "",
      "photoUrl": "",
      "sessionId": "0",
      "userId": ""
     },
     "user_tz": 480
    },
    "id": "y3-cj1bpmuxc",
    "outputId": "e03576f1-ebbe-4838-c388-f1777bcc9873"
   },
   "outputs": [
    {
     "name": "stdout",
     "output_type": "stream",
     "text": [
      "Training set (200000, 28, 28) (200000,)\n",
      "Validation set (10000, 28, 28) (10000,)\n",
      "Test set (10000, 28, 28) (10000,)\n"
     ]
    }
   ],
   "source": [
    "pickle_file = '../../Data/Tutorial/notMNIST.pickle'\n",
    "\n",
    "with open(pickle_file, 'rb') as f:\n",
    "  save = pickle.load(f)\n",
    "  train_dataset = save['train_dataset']\n",
    "  train_labels = save['train_labels']\n",
    "  valid_dataset = save['valid_dataset']\n",
    "  valid_labels = save['valid_labels']\n",
    "  test_dataset = save['test_dataset']\n",
    "  test_labels = save['test_labels']\n",
    "  del save  # hint to help gc free up memory\n",
    "  print('Training set', train_dataset.shape, train_labels.shape)\n",
    "  print('Validation set', valid_dataset.shape, valid_labels.shape)\n",
    "  print('Test set', test_dataset.shape, test_labels.shape)"
   ]
  },
  {
   "cell_type": "markdown",
   "metadata": {
    "colab_type": "text",
    "id": "L7aHrm6nGDMB"
   },
   "source": [
    "Reformat into a shape that's more adapted to the models we're going to train:\n",
    "- data as a flat matrix,\n",
    "- labels as float 1-hot encodings."
   ]
  },
  {
   "cell_type": "code",
   "execution_count": 4,
   "metadata": {
    "cellView": "both",
    "colab": {
     "autoexec": {
      "startup": false,
      "wait_interval": 0
     },
     "output_extras": [
      {
       "item_id": 1
      }
     ]
    },
    "colab_type": "code",
    "executionInfo": {
     "elapsed": 11728,
     "status": "ok",
     "timestamp": 1449849322356,
     "user": {
      "color": "",
      "displayName": "",
      "isAnonymous": false,
      "isMe": true,
      "permissionId": "",
      "photoUrl": "",
      "sessionId": "0",
      "userId": ""
     },
     "user_tz": 480
    },
    "id": "IRSyYiIIGIzS",
    "outputId": "3f8996ee-3574-4f44-c953-5c8a04636582"
   },
   "outputs": [
    {
     "name": "stdout",
     "output_type": "stream",
     "text": [
      "Training set (200000, 784) (200000, 10)\n",
      "Validation set (10000, 784) (10000, 10)\n",
      "Test set (10000, 784) (10000, 10)\n"
     ]
    }
   ],
   "source": [
    "image_size = 28\n",
    "num_labels = 10\n",
    "\n",
    "def reformat(dataset, labels):\n",
    "  dataset = dataset.reshape((-1, image_size * image_size)).astype(np.float32)\n",
    "  # Map 1 to [0.0, 1.0, 0.0 ...], 2 to [0.0, 0.0, 1.0 ...]\n",
    "  labels = (np.arange(num_labels) == labels[:,None]).astype(np.float32)\n",
    "  return dataset, labels\n",
    "train_dataset, train_labels = reformat(train_dataset, train_labels)\n",
    "valid_dataset, valid_labels = reformat(valid_dataset, valid_labels)\n",
    "test_dataset, test_labels = reformat(test_dataset, test_labels)\n",
    "print('Training set', train_dataset.shape, train_labels.shape)\n",
    "print('Validation set', valid_dataset.shape, valid_labels.shape)\n",
    "print('Test set', test_dataset.shape, test_labels.shape)"
   ]
  },
  {
   "cell_type": "code",
   "execution_count": 6,
   "metadata": {
    "cellView": "both",
    "colab": {
     "autoexec": {
      "startup": false,
      "wait_interval": 0
     }
    },
    "colab_type": "code",
    "collapsed": true,
    "id": "RajPLaL_ZW6w"
   },
   "outputs": [],
   "source": [
    "def accuracy(predictions, labels):\n",
    "  return (100.0 * np.sum(np.argmax(predictions, 1) == np.argmax(labels, 1))\n",
    "          / predictions.shape[0])"
   ]
  },
  {
   "cell_type": "code",
   "execution_count": 7,
   "metadata": {},
   "outputs": [],
   "source": [
    "batch_size = 128\n",
    "hidden_layer_size = 250\n",
    "\n",
    "graph = tf.Graph()\n",
    "\n",
    "with graph.as_default() :\n",
    "    \n",
    "    # Layer 1\n",
    "    weights_layer_1 = tf.Variable(tf.truncated_normal([image_size * image_size, hidden_layer_size]))\n",
    "    biases_layer_1 = tf.Variable(tf.zeros(hidden_layer_size))\n",
    "    \n",
    "    # Layer 2\n",
    "    weights_layer_2 = tf.Variable(tf.truncated_normal([hidden_layer_size, num_labels]))\n",
    "    biases_layer_2 = tf.Variable(tf.zeros(num_labels))\n",
    "    \n",
    "    def model(tf_train_dataset) : \n",
    "        out_layer_1 = tf.matmul(tf_train_dataset, weights_layer_1) + biases_layer_1\n",
    "        #dense_layer = tf.layers.dense(inputs=out_layer_1, units=hidden_layer_size, activation=tf.nn.relu)\n",
    "        return tf.matmul(tf.nn.relu(out_layer_1), weights_layer_2) + biases_layer_2\n",
    "    \n",
    "    tf_train_dataset = tf.placeholder(tf.float32, shape=(batch_size, image_size * image_size))\n",
    "    tf_train_labelset = tf.placeholder(tf.float32, shape=(batch_size, num_labels))\n",
    "    \n",
    "    tf_valid_dataset = tf.constant(valid_dataset)\n",
    "    tf_test_dataset = tf.constant(test_dataset)\n",
    "    \n",
    "    logits = model(tf_train_dataset)\n",
    "    \n",
    "    loss = tf.reduce_mean(\n",
    "        tf.nn.softmax_cross_entropy_with_logits(logits=logits, labels=tf_train_labelset))\n",
    "    \n",
    "    optimizer = tf.train.GradientDescentOptimizer(learning_rate=0.5).minimize(loss)\n",
    "    train_predictions = tf.nn.softmax(logits=logits)\n",
    "    valid_predictions = tf.nn.softmax(logits=model(tf_valid_dataset))\n",
    "    test_predictions = tf.nn.softmax(logits=model(tf_test_dataset))"
   ]
  },
  {
   "cell_type": "code",
   "execution_count": 9,
   "metadata": {},
   "outputs": [
    {
     "name": "stdout",
     "output_type": "stream",
     "text": [
      "Initialized...\n",
      "Loss after mini batch step 0 is : 179.462479\n",
      "Mini batch accuracy : 8.593750\n",
      "Validation accuracy : 27.010000\n",
      "Loss after mini batch step 500 is : 7.316789\n",
      "Mini batch accuracy : 71.093750\n",
      "Validation accuracy : 73.760000\n",
      "Loss after mini batch step 1000 is : 1.991946\n",
      "Mini batch accuracy : 71.093750\n",
      "Validation accuracy : 75.640000\n",
      "Loss after mini batch step 1500 is : 1.319514\n",
      "Mini batch accuracy : 78.906250\n",
      "Validation accuracy : 78.740000\n",
      "Loss after mini batch step 2000 is : 4.111946\n",
      "Mini batch accuracy : 80.468750\n",
      "Validation accuracy : 77.350000\n",
      "Loss after mini batch step 2500 is : 2.214208\n",
      "Mini batch accuracy : 78.125000\n",
      "Validation accuracy : 79.450000\n",
      "Loss after mini batch step 3000 is : 0.864661\n",
      "Mini batch accuracy : 82.031250\n",
      "Validation accuracy : 80.750000\n",
      "Loss after mini batch step 3500 is : 0.968468\n",
      "Mini batch accuracy : 85.156250\n",
      "Validation accuracy : 78.130000\n",
      "Loss after mini batch step 4000 is : 1.433520\n",
      "Mini batch accuracy : 81.250000\n",
      "Validation accuracy : 79.030000\n",
      "Loss after mini batch step 4500 is : 0.731435\n",
      "Mini batch accuracy : 84.375000\n",
      "Validation accuracy : 81.130000\n",
      "Loss after mini batch step 5000 is : 1.058561\n",
      "Mini batch accuracy : 78.906250\n",
      "Validation accuracy : 81.010000\n",
      "Loss after mini batch step 5500 is : 0.918516\n",
      "Mini batch accuracy : 87.500000\n",
      "Validation accuracy : 82.340000\n",
      "Loss after mini batch step 6000 is : 0.726304\n",
      "Mini batch accuracy : 82.031250\n",
      "Validation accuracy : 82.000000\n",
      "Loss after mini batch step 6500 is : 0.682385\n",
      "Mini batch accuracy : 86.718750\n",
      "Validation accuracy : 81.830000\n",
      "Loss after mini batch step 7000 is : 1.059681\n",
      "Mini batch accuracy : 81.250000\n",
      "Validation accuracy : 82.550000\n",
      "Loss after mini batch step 7500 is : 0.776334\n",
      "Mini batch accuracy : 83.593750\n",
      "Validation accuracy : 82.570000\n",
      "Loss after mini batch step 8000 is : 0.954316\n",
      "Mini batch accuracy : 81.250000\n",
      "Validation accuracy : 80.560000\n",
      "Loss after mini batch step 8500 is : 0.705111\n",
      "Mini batch accuracy : 81.250000\n",
      "Validation accuracy : 83.250000\n",
      "Loss after mini batch step 9000 is : 0.667753\n",
      "Mini batch accuracy : 85.937500\n",
      "Validation accuracy : 82.750000\n",
      "Loss after mini batch step 9500 is : 0.613805\n",
      "Mini batch accuracy : 85.937500\n",
      "Validation accuracy : 83.000000\n",
      "Loss after mini batch step 10000 is : 0.847055\n",
      "Mini batch accuracy : 82.031250\n",
      "Validation accuracy : 83.240000\n",
      "Loss after mini batch step 10500 is : 0.518044\n",
      "Mini batch accuracy : 85.156250\n",
      "Validation accuracy : 83.490000\n",
      "Loss after mini batch step 11000 is : 1.037542\n",
      "Mini batch accuracy : 82.031250\n",
      "Validation accuracy : 83.360000\n",
      "Loss after mini batch step 11500 is : 0.677686\n",
      "Mini batch accuracy : 83.593750\n",
      "Validation accuracy : 84.320000\n",
      "Loss after mini batch step 12000 is : 0.517276\n",
      "Mini batch accuracy : 83.593750\n",
      "Validation accuracy : 84.210000\n",
      "Loss after mini batch step 12500 is : 0.477842\n",
      "Mini batch accuracy : 86.718750\n",
      "Validation accuracy : 83.950000\n",
      "Loss after mini batch step 13000 is : 0.567515\n",
      "Mini batch accuracy : 84.375000\n",
      "Validation accuracy : 84.330000\n",
      "Loss after mini batch step 13500 is : 0.818055\n",
      "Mini batch accuracy : 78.906250\n",
      "Validation accuracy : 84.380000\n",
      "Loss after mini batch step 14000 is : 0.473922\n",
      "Mini batch accuracy : 88.281250\n",
      "Validation accuracy : 84.360000\n",
      "Loss after mini batch step 14500 is : 0.521542\n",
      "Mini batch accuracy : 88.281250\n",
      "Validation accuracy : 84.270000\n",
      "Loss after mini batch step 15000 is : 0.679286\n",
      "Mini batch accuracy : 83.593750\n",
      "Validation accuracy : 84.460000\n",
      "Loss after mini batch step 15500 is : 0.798247\n",
      "Mini batch accuracy : 88.281250\n",
      "Validation accuracy : 83.670000\n",
      "Loss after mini batch step 16000 is : 0.455731\n",
      "Mini batch accuracy : 86.718750\n",
      "Validation accuracy : 84.670000\n",
      "Loss after mini batch step 16500 is : 0.592783\n",
      "Mini batch accuracy : 83.593750\n",
      "Validation accuracy : 84.720000\n",
      "Loss after mini batch step 17000 is : 0.776055\n",
      "Mini batch accuracy : 79.687500\n",
      "Validation accuracy : 84.030000\n",
      "Loss after mini batch step 17500 is : 0.611975\n",
      "Mini batch accuracy : 87.500000\n",
      "Validation accuracy : 84.600000\n",
      "Loss after mini batch step 18000 is : 0.889473\n",
      "Mini batch accuracy : 84.375000\n",
      "Validation accuracy : 84.560000\n",
      "Loss after mini batch step 18500 is : 0.403011\n",
      "Mini batch accuracy : 89.843750\n",
      "Validation accuracy : 84.670000\n",
      "Loss after mini batch step 19000 is : 0.598122\n",
      "Mini batch accuracy : 82.812500\n",
      "Validation accuracy : 83.740000\n",
      "Loss after mini batch step 19500 is : 0.481787\n",
      "Mini batch accuracy : 85.156250\n",
      "Validation accuracy : 84.750000\n",
      "Loss after mini batch step 20000 is : 0.430945\n",
      "Mini batch accuracy : 85.937500\n",
      "Validation accuracy : 85.020000\n",
      "Loss after mini batch step 20500 is : 0.433825\n",
      "Mini batch accuracy : 88.281250\n",
      "Validation accuracy : 84.790000\n",
      "Loss after mini batch step 21000 is : 0.448957\n",
      "Mini batch accuracy : 83.593750\n",
      "Validation accuracy : 84.840000\n",
      "Loss after mini batch step 21500 is : 0.525728\n",
      "Mini batch accuracy : 89.843750\n",
      "Validation accuracy : 85.340000\n",
      "Loss after mini batch step 22000 is : 0.501397\n",
      "Mini batch accuracy : 85.937500\n",
      "Validation accuracy : 85.190000\n",
      "Loss after mini batch step 22500 is : 0.529482\n",
      "Mini batch accuracy : 87.500000\n",
      "Validation accuracy : 84.970000\n",
      "Loss after mini batch step 23000 is : 0.454781\n",
      "Mini batch accuracy : 89.062500\n",
      "Validation accuracy : 84.870000\n",
      "Loss after mini batch step 23500 is : 0.341651\n",
      "Mini batch accuracy : 90.625000\n",
      "Validation accuracy : 85.300000\n",
      "Loss after mini batch step 24000 is : 0.261237\n",
      "Mini batch accuracy : 91.406250\n",
      "Validation accuracy : 85.570000\n",
      "Loss after mini batch step 24500 is : 0.145761\n",
      "Mini batch accuracy : 96.093750\n",
      "Validation accuracy : 85.440000\n",
      "Loss after mini batch step 25000 is : 0.477231\n",
      "Mini batch accuracy : 87.500000\n",
      "Validation accuracy : 85.610000\n",
      "Loss after mini batch step 25500 is : 0.225485\n",
      "Mini batch accuracy : 93.750000\n",
      "Validation accuracy : 85.700000\n",
      "Loss after mini batch step 26000 is : 0.386756\n",
      "Mini batch accuracy : 87.500000\n",
      "Validation accuracy : 85.520000\n",
      "Loss after mini batch step 26500 is : 0.411977\n",
      "Mini batch accuracy : 90.625000\n",
      "Validation accuracy : 85.030000\n",
      "Loss after mini batch step 27000 is : 0.567397\n",
      "Mini batch accuracy : 91.406250\n",
      "Validation accuracy : 85.480000\n",
      "Loss after mini batch step 27500 is : 0.314269\n",
      "Mini batch accuracy : 90.625000\n",
      "Validation accuracy : 85.410000\n",
      "Loss after mini batch step 28000 is : 0.491512\n",
      "Mini batch accuracy : 87.500000\n",
      "Validation accuracy : 84.870000\n",
      "Loss after mini batch step 28500 is : 0.399381\n",
      "Mini batch accuracy : 89.843750\n",
      "Validation accuracy : 85.320000\n",
      "Loss after mini batch step 29000 is : 0.529803\n",
      "Mini batch accuracy : 89.062500\n",
      "Validation accuracy : 85.420000\n",
      "Loss after mini batch step 29500 is : 0.512557\n",
      "Mini batch accuracy : 83.593750\n",
      "Validation accuracy : 85.300000\n",
      "Loss after mini batch step 30000 is : 0.334655\n",
      "Mini batch accuracy : 87.500000\n",
      "Validation accuracy : 85.550000\n",
      "Test accuracy : 91.200000\n"
     ]
    }
   ],
   "source": [
    "num_steps = 30001\n",
    "\n",
    "with tf.Session(graph=graph) as sess :\n",
    "    tf.global_variables_initializer().run()\n",
    "    print (\"Initialized...\")\n",
    "    \n",
    "    for step in range(num_steps) :\n",
    "        \n",
    "        offset = (step * batch_size) % (train_labels.shape[0] - batch_size)\n",
    "        \n",
    "        batch_data = train_dataset[offset:offset + batch_size, : ]\n",
    "        batch_labels = train_labels[offset:offset + batch_size, : ]\n",
    "        \n",
    "        feed_dict = {\n",
    "            tf_train_dataset : batch_data\n",
    "            , tf_train_labelset : batch_labels\n",
    "        }\n",
    "        \n",
    "        _, l, predictions = sess.run([optimizer, loss, train_predictions], feed_dict)\n",
    "        \n",
    "        \n",
    "        \n",
    "        if (step % 500 == 0) :\n",
    "            print (\"Loss after mini batch step %d is : %f\" % (step, l))\n",
    "            print (\"Mini batch accuracy : %f\" % accuracy(predictions, batch_labels))\n",
    "            print (\"Validation accuracy : %f\" % accuracy(valid_predictions.eval(), valid_labels))\n",
    "    print (\"Test accuracy : %f\" % accuracy(test_predictions.eval(), test_labels))"
   ]
  },
  {
   "cell_type": "markdown",
   "metadata": {
    "colab_type": "text",
    "id": "sgLbUAQ1CW-1"
   },
   "source": [
    "---\n",
    "Problem 1\n",
    "---------\n",
    "\n",
    "Introduce and tune L2 regularization for both logistic and neural network models. Remember that L2 amounts to adding a penalty on the norm of the weights to the loss. In TensorFlow, you can compute the L2 loss for a tensor `t` using `nn.l2_loss(t)`. The right amount of regularization should improve your validation / test accuracy.\n",
    "\n",
    "---"
   ]
  },
  {
   "cell_type": "markdown",
   "metadata": {
    "colab_type": "text",
    "id": "na8xX2yHZzNF"
   },
   "source": [
    "---\n",
    "Problem 2\n",
    "---------\n",
    "Let's demonstrate an extreme case of overfitting. Restrict your training data to just a few batches. What happens?\n",
    "\n",
    "---"
   ]
  },
  {
   "cell_type": "markdown",
   "metadata": {
    "colab_type": "text",
    "id": "ww3SCBUdlkRc"
   },
   "source": [
    "---\n",
    "Problem 3\n",
    "---------\n",
    "Introduce Dropout on the hidden layer of the neural network. Remember: Dropout should only be introduced during training, not evaluation, otherwise your evaluation results would be stochastic as well. TensorFlow provides `nn.dropout()` for that, but you have to make sure it's only inserted during training.\n",
    "\n",
    "What happens to our extreme overfitting case?\n",
    "\n",
    "---"
   ]
  },
  {
   "cell_type": "markdown",
   "metadata": {
    "colab_type": "text",
    "id": "-b1hTz3VWZjw"
   },
   "source": [
    "---\n",
    "Problem 4\n",
    "---------\n",
    "\n",
    "Try to get the best performance you can using a multi-layer model! The best reported test accuracy using a deep network is [97.1%](http://yaroslavvb.blogspot.com/2011/09/notmnist-dataset.html?showComment=1391023266211#c8758720086795711595).\n",
    "\n",
    "One avenue you can explore is to add multiple layers.\n",
    "\n",
    "Another one is to use learning rate decay:\n",
    "\n",
    "    global_step = tf.Variable(0)  # count the number of steps taken.\n",
    "    learning_rate = tf.train.exponential_decay(0.5, global_step, ...)\n",
    "    optimizer = tf.train.GradientDescentOptimizer(learning_rate).minimize(loss, global_step=global_step)\n",
    " \n",
    " ---\n"
   ]
  }
 ],
 "metadata": {
  "colab": {
   "default_view": {},
   "name": "3_regularization.ipynb",
   "provenance": [],
   "version": "0.3.2",
   "views": {}
  },
  "kernelspec": {
   "display_name": "Python 3",
   "language": "python",
   "name": "python3"
  },
  "language_info": {
   "codemirror_mode": {
    "name": "ipython",
    "version": 3
   },
   "file_extension": ".py",
   "mimetype": "text/x-python",
   "name": "python",
   "nbconvert_exporter": "python",
   "pygments_lexer": "ipython3",
   "version": "3.6.1"
  }
 },
 "nbformat": 4,
 "nbformat_minor": 1
}
